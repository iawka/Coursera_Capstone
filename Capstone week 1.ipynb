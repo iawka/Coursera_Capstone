{
 "cells": [
  {
   "cell_type": "markdown",
   "metadata": {},
   "source": [
    "# The Battle of Neighborhood: Vacation accommodation in London   \n",
    "## 1. Introduction\n",
    "### 1.1 Background Information\n",
    "London is one of the top tourist destination in the world, when travellers stay in London, Airbnb is always a choice over hotel considering the price and the variety of neighborhood location for accommodation.\n",
    "\n",
    "### 1.2 Problem Statement\n",
    "According to Inside Airbnb, there are over 70000 accommodation listings in London in the year 2021. Therefore, it will be hard to find the right accommodation to rent via Airbnb service.\n",
    "\n",
    "In this project, I will try to investigate the optimal location in London where travellers can enjoy a pleasant stay, with a variety of restaurants nearby as well as convenient journey to travel numerous attractions in London.\n",
    "\n",
    "### 1.3 Target Audience\n",
    "This report is an analysis of Airbnb accommodation listings in London for travellers who would like to visit London and provide some recommendation on the location of stay."
   ]
  },
  {
   "cell_type": "markdown",
   "metadata": {},
   "source": [
    "## 2. Data\n",
    "\n",
    "To solve the problem, I will use the data extracted from Airbnb to get the list of accommodation in London and then get the services of Foursquare API to explore the attractions nearby the accommodation in London\n",
    "\n",
    "For the list of accommodation, I will calculate the accommodation price (per person per night) based on neighbourhood in London, and perform sorting to get a list of highest review rating accommodation with lowest accommodation price.   \n",
    "\n",
    "While for the attractions, it will include the information about the places around each neighborhood like restaurants, hotels, coffee shops, parks, theaters, art galleries, museums and etc. \n",
    "\n",
    "I will use machine learning technique, “Clustering” to segment the neighborhoods with similar objects on the basis of each neighborhood data, and based on the result to provide recommendation based on the attractions, price and rating.\n",
    "\n",
    "\n",
    "### 2.1 Data Required\n",
    "1. Average accommodation price based on neighbourhood\n",
    "2. Number of venues including tourists attractions, restaurants and shopping malls in the neighborhood\n",
    "\n",
    "### 2.2 Data Sources\n",
    "In this project, I will use free public available dataset. Below is the link to the dataset.\n",
    "\n",
    "1. Airbnb accommodation data from Inside Airbnb: http://insideairbnb.com/get-the-data.html \n",
    "2. Foursquare API to extract data on venues in a neighbourhood: https://developer.foursquare.com/\n",
    "            \n",
    "### 2.3 Data details\n",
    "#### 2.3.1 Airbnb data: \n",
    "##### This is the direct link to download the data file: http://data.insideairbnb.com/portugal/lisbon/lisbon/2021-04-16/data/listings.csv.gz\n",
    "\n",
    "To streamline the analysis, only the below columns will be selected for analysis\n",
    "##### Description for each column:\n",
    "1. id: unique id for each accommodation\n",
    "2. neighbourhood_cleansed: neighbourhood name that the accommodation is located\n",
    "3. latitude: latitude of accommodation location\n",
    "4. longitude: longitude of accommodation location\n",
    "5. room_type: accommodation room type\n",
    "6. price: price of accommodation per night\n",
    "7. minimum_nights: minimum nights of stay\n",
    "8. accommodates: number of person\n",
    "9. availability_365: accommodation's availability days per year\n",
    "10. number_of_reviews: number of reviews in total\n",
    "\n",
    "##### Filter the data with fthe followings conditions:\n",
    "1. Minimum nights (at least 1 and not more than 5) \n",
    "2. Number of reviews (at least 50)\n",
    "3. Exclude shared room\n",
    "4. Availability (at least more than 10 days per year)\n",
    "\n",
    "#### 2.3.2 Foursquare api to be used\n",
    "I will make use of Insider Airbnb data for analysis and later to check against Foursquare api to explore the nearby attractions\n",
    "\n",
    "https://api.foursquare.com/v2/venues/explore?&client_id={}&client_secret={}&v={}&ll={},{}&radius={}&limit={}'.format(\n",
    "            CLIENT_ID, \n",
    "            CLIENT_SECRET, \n",
    "            VERSION, \n",
    "            lat, \n",
    "            lng, \n",
    "            radius, \n",
    "            LIMIT)"
   ]
  },
  {
   "cell_type": "code",
   "execution_count": null,
   "metadata": {},
   "outputs": [],
   "source": []
  }
 ],
 "metadata": {
  "kernelspec": {
   "display_name": "Python 3",
   "language": "python",
   "name": "python3"
  },
  "language_info": {
   "codemirror_mode": {
    "name": "ipython",
    "version": 3
   },
   "file_extension": ".py",
   "mimetype": "text/x-python",
   "name": "python",
   "nbconvert_exporter": "python",
   "pygments_lexer": "ipython3",
   "version": "3.7.3"
  }
 },
 "nbformat": 4,
 "nbformat_minor": 2
}
